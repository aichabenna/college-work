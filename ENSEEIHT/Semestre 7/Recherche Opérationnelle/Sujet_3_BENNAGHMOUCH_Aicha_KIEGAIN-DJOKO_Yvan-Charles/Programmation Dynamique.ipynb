{
 "cells": [
  {
   "cell_type": "markdown",
   "metadata": {},
   "source": [
    "# TP 3 : Programmation Dynamique"
   ]
  },
  {
   "cell_type": "markdown",
   "metadata": {},
   "source": [
    "### Initialisation (à faire une seule fois)"
   ]
  },
  {
   "cell_type": "code",
   "execution_count": 1,
   "metadata": {},
   "outputs": [
    {
     "name": "stderr",
     "output_type": "stream",
     "text": [
      "\u001b[32m\u001b[1m   Updating\u001b[22m\u001b[39m registry at `~/.julia/registries/General`\n",
      "\u001b[32m\u001b[1m  Resolving\u001b[22m\u001b[39m package versions...\n",
      "\u001b[32m\u001b[1m  Installed\u001b[22m\u001b[39m Netpbm ───────────── v1.1.0\n",
      "\u001b[32m\u001b[1m  Installed\u001b[22m\u001b[39m GraphRecipes ─────── v0.5.5\n",
      "\u001b[32m\u001b[1m  Installed\u001b[22m\u001b[39m ImageAxes ────────── v0.6.10\n",
      "\u001b[32m\u001b[1m  Installed\u001b[22m\u001b[39m GraphPlot ────────── v0.5.2\n",
      "\u001b[32m\u001b[1m  Installed\u001b[22m\u001b[39m StatsBase ────────── v0.33.21\n",
      "\u001b[32m\u001b[1m  Installed\u001b[22m\u001b[39m IJulia ───────────── v1.23.3\n",
      "\u001b[32m\u001b[1m  Installed\u001b[22m\u001b[39m Compose ──────────── v0.9.4\n",
      "\u001b[32m\u001b[1m  Installed\u001b[22m\u001b[39m ImageMetadata ────── v0.9.8\n",
      "\u001b[32m\u001b[1m  Installed\u001b[22m\u001b[39m ImageBase ────────── v0.1.5\n",
      "\u001b[32m\u001b[1m  Installed\u001b[22m\u001b[39m GeometryBasics ───── v0.3.10\n",
      "\u001b[32m\u001b[1m  Installed\u001b[22m\u001b[39m ImageCore ────────── v0.9.4\n",
      "\u001b[32m\u001b[1m  Installed\u001b[22m\u001b[39m NetworkLayout ────── v0.2.0\n",
      "\u001b[32m\u001b[1m  Installed\u001b[22m\u001b[39m ColorSchemes ─────── v3.20.0\n",
      "\u001b[32m\u001b[1m  Installed\u001b[22m\u001b[39m TranscodingStreams ─ v0.9.10\n",
      "\u001b[32m\u001b[1m  Installed\u001b[22m\u001b[39m MozillaCACerts_jll ─ v2022.10.11+0\n",
      "\u001b[32m\u001b[1m  Installed\u001b[22m\u001b[39m StructArrays ─────── v0.4.2\n",
      "\u001b[32m\u001b[1m  Installed\u001b[22m\u001b[39m Parsers ──────────── v2.4.2\n",
      "\u001b[32m\u001b[1m  Installed\u001b[22m\u001b[39m Interpolations ───── v0.12.10\n",
      "######################################################################### 100,0%\n",
      "\u001b[32m\u001b[1m   Updating\u001b[22m\u001b[39m `~/.julia/environments/v1.4/Project.toml`\n",
      " \u001b[90m [13f3f980]\u001b[39m\u001b[95m ↓ CairoMakie v0.7.2 ⇒ v0.6.4\u001b[39m\n",
      " \u001b[90m [a81c6b42]\u001b[39m\u001b[93m ↑ Compose v0.9.3 ⇒ v0.9.4\u001b[39m\n",
      " \u001b[90m [a2cc645c]\u001b[39m\u001b[93m ↑ GraphPlot v0.5.0 ⇒ v0.5.2\u001b[39m\n",
      " \u001b[90m [bd48cda9]\u001b[39m\u001b[92m + GraphRecipes v0.5.5\u001b[39m\n",
      " \u001b[90m [7073ff75]\u001b[39m\u001b[93m ↑ IJulia v1.23.2 ⇒ v1.23.3\u001b[39m\n",
      " \u001b[90m [ee78f7c6]\u001b[39m\u001b[95m ↓ Makie v0.16.3 ⇒ v0.15.1\u001b[39m\n",
      " \u001b[90m [91a5bcdd]\u001b[39m\u001b[93m ↑ Plots v1.4.3 ⇒ v1.6.12\u001b[39m\n",
      " \u001b[90m [2913bbd2]\u001b[39m\u001b[93m ↑ StatsBase v0.33.14 ⇒ v0.33.21\u001b[39m\n",
      "\u001b[32m\u001b[1m   Updating\u001b[22m\u001b[39m `~/.julia/environments/v1.4/Manifest.toml`\n",
      " \u001b[90m [621f4979]\u001b[39m\u001b[93m ↑ AbstractFFTs v1.1.0 ⇒ v1.2.1\u001b[39m\n",
      " \u001b[90m [79e6a3ab]\u001b[39m\u001b[93m ↑ Adapt v3.3.3 ⇒ v3.4.0\u001b[39m\n",
      " \u001b[90m [39de3d68]\u001b[39m\u001b[92m + AxisArrays v0.4.6\u001b[39m\n",
      " \u001b[90m [fa961155]\u001b[39m\u001b[93m ↑ CEnum v0.4.1 ⇒ v0.4.2\u001b[39m\n",
      " \u001b[90m [13f3f980]\u001b[39m\u001b[95m ↓ CairoMakie v0.7.2 ⇒ v0.6.4\u001b[39m\n",
      " \u001b[90m [d360d2e6]\u001b[39m\u001b[93m ↑ ChainRulesCore v1.12.0 ⇒ v1.12.2\u001b[39m\n",
      " \u001b[90m [9e997f8a]\u001b[39m\u001b[93m ↑ ChangesOfVariables v0.1.2 ⇒ v0.1.4\u001b[39m\n",
      " \u001b[90m [da1fd8a2]\u001b[39m\u001b[93m ↑ CodeTracking v1.0.8 ⇒ v1.1.1\u001b[39m\n",
      " \u001b[90m [35d6a980]\u001b[39m\u001b[93m ↑ ColorSchemes v3.16.0 ⇒ v3.20.0\u001b[39m\n",
      " \u001b[90m [3da002f7]\u001b[39m\u001b[93m ↑ ColorTypes v0.10.12 ⇒ v0.11.4\u001b[39m\n",
      " \u001b[90m [c3611d14]\u001b[39m\u001b[93m ↑ ColorVectorSpace v0.9.8 ⇒ v0.9.9\u001b[39m\n",
      " \u001b[90m [34da2185]\u001b[39m\u001b[93m ↑ Compat v3.41.0 ⇒ v3.46.0\u001b[39m\n",
      " \u001b[90m [a81c6b42]\u001b[39m\u001b[93m ↑ Compose v0.9.3 ⇒ v0.9.4\u001b[39m\n",
      " \u001b[90m [9a962f9c]\u001b[39m\u001b[93m ↑ DataAPI v1.9.0 ⇒ v1.13.0\u001b[39m\n",
      " \u001b[90m [864edb3b]\u001b[39m\u001b[93m ↑ DataStructures v0.18.11 ⇒ v0.18.13\u001b[39m\n",
      " \u001b[90m [b429d917]\u001b[39m\u001b[91m - DensityInterface v0.4.0\u001b[39m\n",
      " \u001b[90m [31c24e10]\u001b[39m\u001b[95m ↓ Distributions v0.25.45 ⇒ v0.25.24\u001b[39m\n",
      " \u001b[90m [c87230d0]\u001b[39m\u001b[93m ↑ FFMPEG v0.3.0 ⇒ v0.4.1\u001b[39m\n",
      " \u001b[90m [5789e2e9]\u001b[39m\u001b[93m ↑ FileIO v1.13.0 ⇒ v1.16.0\u001b[39m\n",
      " \u001b[90m [1a297f60]\u001b[39m\u001b[93m ↑ FillArrays v0.12.7 ⇒ v0.12.8\u001b[39m\n",
      " \u001b[90m [663a7486]\u001b[39m\u001b[95m ↓ FreeTypeAbstraction v0.9.5 ⇒ v0.9.1\u001b[39m\n",
      " \u001b[90m [28b8d3ca]\u001b[39m\u001b[93m ↑ GR v0.50.1 ⇒ v0.52.0\u001b[39m\n",
      " \u001b[90m [5c1252a2]\u001b[39m\u001b[95m ↓ GeometryBasics v0.4.1 ⇒ v0.3.10\u001b[39m\n",
      " \u001b[90m [a2cc645c]\u001b[39m\u001b[93m ↑ GraphPlot v0.5.0 ⇒ v0.5.2\u001b[39m\n",
      " \u001b[90m [bd48cda9]\u001b[39m\u001b[92m + GraphRecipes v0.5.5\u001b[39m\n",
      " \u001b[90m [a2bd30eb]\u001b[39m\u001b[93m ↑ Graphics v1.1.1 ⇒ v1.1.2\u001b[39m\n",
      " \u001b[90m [86223c79]\u001b[39m\u001b[93m ↑ Graphs v1.5.1 ⇒ v1.5.2\u001b[39m\n",
      " \u001b[90m [3955a311]\u001b[39m\u001b[95m ↓ GridLayoutBase v0.6.4 ⇒ v0.5.7\u001b[39m\n",
      " \u001b[90m [7073ff75]\u001b[39m\u001b[93m ↑ IJulia v1.23.2 ⇒ v1.23.3\u001b[39m\n",
      " \u001b[90m [2803e5a7]\u001b[39m\u001b[92m + ImageAxes v0.6.10\u001b[39m\n",
      " \u001b[90m [c817782e]\u001b[39m\u001b[92m + ImageBase v0.1.5\u001b[39m\n",
      " \u001b[90m [a09fc81d]\u001b[39m\u001b[93m ↑ ImageCore v0.9.3 ⇒ v0.9.4\u001b[39m\n",
      " \u001b[90m [82e4d734]\u001b[39m\u001b[95m ↓ ImageIO v0.5.9 ⇒ v0.4.1\u001b[39m\n",
      " \u001b[90m [bc367c6b]\u001b[39m\u001b[92m + ImageMetadata v0.9.8\u001b[39m\n",
      " \u001b[90m [905a6f67]\u001b[39m\u001b[91m - Imath_jll v3.1.2+0\u001b[39m\n",
      " \u001b[90m [d25df0c9]\u001b[39m\u001b[93m ↑ Inflate v0.1.2 ⇒ v0.1.3\u001b[39m\n",
      " \u001b[90m [83e8ac13]\u001b[39m\u001b[93m ↑ IniFile v0.5.0 ⇒ v0.5.1\u001b[39m\n",
      " \u001b[90m [a98d9a8b]\u001b[39m\u001b[95m ↓ Interpolations v0.13.5 ⇒ v0.12.10\u001b[39m\n",
      " \u001b[90m [8197267c]\u001b[39m\u001b[93m ↑ IntervalSets v0.5.3 ⇒ v0.5.4\u001b[39m\n",
      " \u001b[90m [3587e190]\u001b[39m\u001b[93m ↑ InverseFunctions v0.1.2 ⇒ v0.1.8\u001b[39m\n",
      " \u001b[90m [682c06a0]\u001b[39m\u001b[93m ↑ JSON v0.21.2 ⇒ v0.21.3\u001b[39m\n",
      " \u001b[90m [5ab0869b]\u001b[39m\u001b[93m ↑ KernelDensity v0.6.3 ⇒ v0.6.5\u001b[39m\n",
      " \u001b[90m [23fbe1c1]\u001b[39m\u001b[92m + Latexify v0.14.12\u001b[39m\n",
      " \u001b[90m [2ab3a3ac]\u001b[39m\u001b[93m ↑ LogExpFunctions v0.3.6 ⇒ v0.3.19\u001b[39m\n",
      " \u001b[90m [1914dd2f]\u001b[39m\u001b[93m ↑ MacroTools v0.5.9 ⇒ v0.5.10\u001b[39m\n",
      " \u001b[90m [ee78f7c6]\u001b[39m\u001b[95m ↓ Makie v0.16.3 ⇒ v0.15.1\u001b[39m\n",
      " \u001b[90m [20f20a25]\u001b[39m\u001b[95m ↓ MakieCore v0.2.1 ⇒ v0.1.3\u001b[39m\n",
      " \u001b[90m [0a4f8689]\u001b[39m\u001b[95m ↓ MathTeXEngine v0.2.1 ⇒ v0.1.2\u001b[39m\n",
      " \u001b[90m [442fdcdd]\u001b[39m\u001b[93m ↑ Measures v0.3.1 ⇒ v0.3.2\u001b[39m\n",
      " \u001b[90m [e94cdb99]\u001b[39m\u001b[93m ↑ MosaicViews v0.3.3 ⇒ v0.3.4\u001b[39m\n",
      " \u001b[90m [14a3606d]\u001b[39m\u001b[93m ↑ MozillaCACerts_jll v2022.2.1+0 ⇒ v2022.10.11+0\u001b[39m\n",
      " \u001b[90m [f09324ee]\u001b[39m\u001b[93m ↑ Netpbm v1.0.2 ⇒ v1.1.0\u001b[39m\n",
      " \u001b[90m [46757867]\u001b[39m\u001b[92m + NetworkLayout v0.2.0\u001b[39m\n",
      " \u001b[90m [6fe1bfb0]\u001b[39m\u001b[93m ↑ OffsetArrays v1.10.8 ⇒ v1.12.8\u001b[39m\n",
      " \u001b[90m [52e1d378]\u001b[39m\u001b[91m - OpenEXR v0.3.2\u001b[39m\n",
      " \u001b[90m [18a262bb]\u001b[39m\u001b[91m - OpenEXR_jll v3.1.1+0\u001b[39m\n",
      " \u001b[90m [90014a1f]\u001b[39m\u001b[93m ↑ PDMats v0.11.5 ⇒ v0.11.16\u001b[39m\n",
      " \u001b[90m [f57f5aa1]\u001b[39m\u001b[93m ↑ PNGFiles v0.3.14 ⇒ v0.3.17\u001b[39m\n",
      " \u001b[90m [19eb6ba3]\u001b[39m\u001b[95m ↓ Packing v0.4.2 ⇒ v0.4.1\u001b[39m\n",
      " \u001b[90m [69de0a69]\u001b[39m\u001b[93m ↑ Parsers v2.2.1 ⇒ v2.4.2\u001b[39m\n",
      " \u001b[90m [eebad327]\u001b[39m\u001b[91m - PkgVersion v0.1.1\u001b[39m\n",
      " \u001b[90m [91a5bcdd]\u001b[39m\u001b[93m ↑ Plots v1.4.3 ⇒ v1.6.12\u001b[39m\n",
      " \u001b[90m [21216c6a]\u001b[39m\u001b[93m ↑ Preferences v1.2.3 ⇒ v1.3.0\u001b[39m\n",
      " \u001b[90m [92933f4c]\u001b[39m\u001b[91m - ProgressMeter v1.7.1\u001b[39m\n",
      " \u001b[90m [1fd47b50]\u001b[39m\u001b[93m ↑ QuadGK v2.4.2 ⇒ v2.6.0\u001b[39m\n",
      " \u001b[90m [b3c3ace0]\u001b[39m\u001b[92m + RangeArrays v0.3.2\u001b[39m\n",
      " \u001b[90m [c84ed2f1]\u001b[39m\u001b[93m ↑ Ratios v0.4.2 ⇒ v0.4.3\u001b[39m\n",
      " \u001b[90m [6c6a2e73]\u001b[39m\u001b[93m ↑ Scratch v1.1.0 ⇒ v1.1.1\u001b[39m\n",
      " \u001b[90m [66db9d55]\u001b[39m\u001b[92m + SnoopPrecompile v1.0.1\u001b[39m\n",
      " \u001b[90m [a2af1166]\u001b[39m\u001b[93m ↑ SortingAlgorithms v1.0.1 ⇒ v1.1.0\u001b[39m\n",
      " \u001b[90m [276daf66]\u001b[39m\u001b[93m ↑ SpecialFunctions v1.8.1 ⇒ v1.8.7\u001b[39m\n",
      " \u001b[90m [90137ffa]\u001b[39m\u001b[95m ↓ StaticArrays v1.3.4 ⇒ v0.12.5\u001b[39m\n",
      " \u001b[90m [82ae8749]\u001b[39m\u001b[93m ↑ StatsAPI v1.2.0 ⇒ v1.5.0\u001b[39m\n",
      " \u001b[90m [2913bbd2]\u001b[39m\u001b[93m ↑ StatsBase v0.33.14 ⇒ v0.33.21\u001b[39m\n",
      " \u001b[90m [09ab397b]\u001b[39m\u001b[95m ↓ StructArrays v0.6.4 ⇒ v0.4.2\u001b[39m\n",
      " \u001b[90m [bd369af6]\u001b[39m\u001b[93m ↑ Tables v1.6.1 ⇒ v1.10.0\u001b[39m\n",
      " \u001b[90m [731e570b]\u001b[39m\u001b[91m - TiffImages v0.5.3\u001b[39m\n",
      " \u001b[90m [0796e94c]\u001b[39m\u001b[93m ↑ Tokenize v0.5.21 ⇒ v0.5.24\u001b[39m\n",
      " \u001b[90m [3bb67fe8]\u001b[39m\u001b[93m ↑ TranscodingStreams v0.9.6 ⇒ v0.9.10\u001b[39m\n",
      " \u001b[90m [cc8bc4a8]\u001b[39m\u001b[93m ↑ Widgets v0.6.5 ⇒ v0.6.6\u001b[39m\n",
      " \u001b[90m [c2297ded]\u001b[39m\u001b[93m ↑ ZMQ v1.2.1 ⇒ v1.2.2\u001b[39m\n",
      "\u001b[32m\u001b[1m   Building\u001b[22m\u001b[39m IJulia → `~/.julia/packages/IJulia/AQu2H/deps/build.log`\n",
      "\u001b[32m\u001b[1m  Resolving\u001b[22m\u001b[39m package versions...\n",
      "\u001b[32m\u001b[1m   Updating\u001b[22m\u001b[39m `~/.julia/environments/v1.4/Project.toml`\n",
      "\u001b[90m [no changes]\u001b[39m\n",
      "\u001b[32m\u001b[1m   Updating\u001b[22m\u001b[39m `~/.julia/environments/v1.4/Manifest.toml`\n",
      "\u001b[90m [no changes]\u001b[39m\n",
      "┌ Info: Precompiling GraphRecipes [bd48cda9-67a9-57be-86fa-5b3c104eda73]\n",
      "└ @ Base loading.jl:1260\n",
      "┌ Info: Precompiling Plots [91a5bcdd-55d7-5caf-9e0b-520d859cae80]\n",
      "└ @ Base loading.jl:1260\n"
     ]
    }
   ],
   "source": [
    "import Pkg; \n",
    "Pkg.add(\"GraphRecipes\"); Pkg.add(\"Plots\"); \n",
    "using GraphRecipes, Plots #only used to visualize the search tree at the end of the branch-and-bound"
   ]
  },
  {
   "cell_type": "markdown",
   "metadata": {},
   "source": [
    "### Récupération des données"
   ]
  },
  {
   "cell_type": "code",
   "execution_count": 9,
   "metadata": {},
   "outputs": [
    {
     "data": {
      "text/plain": [
       "readKnaptxtInstance (generic function with 1 method)"
      ]
     },
     "execution_count": 9,
     "metadata": {},
     "output_type": "execute_result"
    }
   ],
   "source": [
    "function readKnaptxtInstance(filename)\n",
    "    price=[]\n",
    "    weight=[]\n",
    "    KnapCap=[]\n",
    "    open(filename) do f\n",
    "        for i in 1:3\n",
    "            tok = split(readline(f))\n",
    "            if(tok[1] == \"ListPrices=\")\n",
    "                for i in 2:(length(tok)-1)\n",
    "                    push!(price,parse(Int64, tok[i]))\n",
    "                end\n",
    "            elseif(tok[1] == \"ListWeights=\")\n",
    "                for i in 2:(length(tok)-1)\n",
    "                    push!(weight,parse(Int64, tok[i]))\n",
    "                end\n",
    "            elseif(tok[1] == \"Capacity=\")\n",
    "                push!(KnapCap, parse(Int64, tok[2]))\n",
    "            else\n",
    "                println(\"Unknown read :\", tok)\n",
    "            end \n",
    "        end\n",
    "    end\n",
    "    capacity=KnapCap[1]\n",
    "    return price, weight, capacity\n",
    "end"
   ]
  },
  {
   "cell_type": "markdown",
   "metadata": {},
   "source": [
    "### Création du tableau avec la relation de récurrence et Recherche de la solution"
   ]
  },
  {
   "cell_type": "code",
   "execution_count": 13,
   "metadata": {},
   "outputs": [
    {
     "data": {
      "text/plain": [
       "trouverSol (generic function with 2 methods)"
      ]
     },
     "execution_count": 13,
     "metadata": {},
     "output_type": "execute_result"
    }
   ],
   "source": [
    "#=\n",
    "function creationTab(cout, poids, capacite)\n",
    "    nbObjets = length(cout) # length(poids)\n",
    "    tab = zeros(Int, nbObjets, capacite+1)\n",
    "\n",
    "    for j in 2:(capacite+1)\n",
    "        if poids[1] <= j-1\n",
    "            tab[1,j]=cout[1]\n",
    "        end\n",
    "    end\n",
    "\n",
    "    for i=2:nbObjets \n",
    "        for j=2:(capacite+1)\n",
    "            if (j-poids[i])>0\n",
    "                tab[i,j]= max(tab[i-1,j], tab[i-1, j-poids[i]] + cout[i] )\n",
    "            else\n",
    "                tab[i,j]= tab[i-1,j]\n",
    "            end\n",
    "        end\n",
    "    end\n",
    "    return tab\n",
    "end\n",
    "=#\n",
    "\n",
    "function creationTabandObjList(cout, poids, capacite)\n",
    "    nbObjets = length(cout) # length(poids)\n",
    "    tab = zeros(Int, nbObjets, capacite+1)\n",
    "    \n",
    "    # objetList[i,j] liste d'objet utilisé pour atteindre la capacité tab[i,j]\n",
    "    objList = [[] for i=1:nbObjets, j=1:(capacite+1)]\n",
    "    \n",
    "    for j in 2:(capacite+1)\n",
    "        if poids[1] <= j-1\n",
    "            tab[1,j]=cout[1]\n",
    "        end\n",
    "    end\n",
    "\n",
    "    for i=2:nbObjets \n",
    "        for j=2:(capacite+1)\n",
    "            if (j-poids[i])>0\n",
    "                # tab[i,j]= max(tab[i-1,j], tab[i-1, j-poids[i]] + cout[i])\n",
    "                cij_1 = tab[i-1,j]\n",
    "                cij_2 = tab[i-1, j-poids[i]] + cout[i]\n",
    "                \n",
    "                if cij_1 > cij_2\n",
    "                    tab[i,j] = cij_1\n",
    "                    \n",
    "                    objList_1 = copy(objList[i-1,j])\n",
    "                    objList[i,j] = objList_1\n",
    "                else\n",
    "                    tab[i,j] = cij_2\n",
    "                    \n",
    "                    objList_2 = copy(objList[i-1,j-poids[i]])\n",
    "                    objList_2 = push!(objList_2,i)\n",
    "                    objList[i,j] = objList_2\n",
    "                end \n",
    "            else\n",
    "                tab[i,j]= tab[i-1,j]\n",
    "                objList[i,j] = objList[i-1,j]\n",
    "            end\n",
    "        end\n",
    "    end\n",
    "    return tab, objList\n",
    "end\n",
    "\n",
    "function trouverSol(tab, objList, nbObjets, capacite)\n",
    "    coutMax = 0\n",
    "    objListMax = []\n",
    "    \n",
    "    for i in 1:nbObjets\n",
    "        tmp = tab[i,capacite+1]\n",
    "        objList_tmp = objList[i,capacite+1]\n",
    "        if tmp > coutMax\n",
    "            coutMax = tmp\n",
    "            objListMax =objList_tmp\n",
    "        end\n",
    "    end\n",
    "    \n",
    "    return coutMax, objListMax\n",
    "end"
   ]
  },
  {
   "cell_type": "markdown",
   "metadata": {},
   "source": [
    "## Boucle Principale : Résolution du problème du Sac à Dos"
   ]
  },
  {
   "cell_type": "code",
   "execution_count": 18,
   "metadata": {},
   "outputs": [
    {
     "data": {
      "text/plain": [
       "SolveProblemeSacADos (generic function with 1 method)"
      ]
     },
     "execution_count": 18,
     "metadata": {},
     "output_type": "execute_result"
    }
   ],
   "source": [
    "function SolveProblemeSacADos(filename)\n",
    "    # Récupération des données\n",
    "    price, weight, capacity = readKnaptxtInstance(filename)\n",
    "    \n",
    "    # Ordre décroissant suivant les prix\n",
    "    indSorted = sortperm(price)\n",
    "    indSorted = reverse(indSorted)\n",
    "    \n",
    "    priceSorted = price[indSorted]\n",
    "    weightSorted = weight[indSorted]\n",
    "    \n",
    "    # Affichage des Donnees\n",
    "    println(\"Donnees :\")\n",
    "    println(\"Prix:\", priceSorted)\n",
    "    println(\"\\nPoids:\", weightSorted)\n",
    "    \n",
    "    array, objList = creationTabandObjList(priceSorted, weightSorted, capacity)\n",
    "    \n",
    "    # Affichage du tableau crée si sa taille n'est pas très grande \n",
    "    if length(array) < 50\n",
    "        println(\"\\nTableau crée avec la fonction creationTab: array\")\n",
    "        println(array)\n",
    "    end\n",
    "        \n",
    "    nbObjets = length(price)\n",
    "    BestProfit, objListMax = trouverSol(array, objList, nbObjets, capacity)\n",
    "    \n",
    "    BestSol = zeros(Int, nbObjets, 1)\n",
    "    \n",
    "    indObjetsChoisis = indSorted[objListMax]\n",
    "    \n",
    "    for i in indObjetsChoisis\n",
    "        BestSol[i] = 1 \n",
    "    end\n",
    "    \n",
    "    return BestProfit, BestSol\n",
    "end"
   ]
  },
  {
   "cell_type": "markdown",
   "metadata": {},
   "source": [
    "### Commentaires du Code : Fonctionnement de l'algorithme"
   ]
  },
  {
   "attachments": {},
   "cell_type": "markdown",
   "metadata": {},
   "source": [
    "Nous avons utilisé l'algorithme de programmation dynamique présenté dans le cours pour résoudre le problème du sac à dos. Cet algorithme consiste tout d'abord en la création de deux tableaux. Nous avons complété le premier en utilisant la relation de récurrence fournie en cours et le second avec les identifiants des objets selectionnés pour atteindre le coût inscrit dans la case correspondante du premier tableau (creationTabandObjList). Pour faire cela, nous avons tout d'abord commencé par classer les listes des objets et des prix suivant l'ordre décroissant des prix. \n",
    "\n",
    "Une fois le tableau créé, nous avons sélectionné la dernière colonne du tableau et nous cherchons le coût maximal. La case correspondante à celle-là dans le second tableau nous donne la liste des objets selectionnés pour atteindre ce coût. Nous obtenons ainsi la solution du problème."
   ]
  },
  {
   "cell_type": "markdown",
   "metadata": {},
   "source": [
    "###  Analyses Demandées"
   ]
  },
  {
   "cell_type": "markdown",
   "metadata": {},
   "source": [
    "### Test Instance 1 :\n",
    "Courte argumentation de l'adéquation du résultat avec cette instance.\n",
    "- Solution Obtenue\n",
    "- Valeurs de la Fonction-Objectif"
   ]
  },
  {
   "cell_type": "markdown",
   "metadata": {},
   "source": [
    "#### Affichage du résultat final avec cette instance :"
   ]
  },
  {
   "cell_type": "code",
   "execution_count": 19,
   "metadata": {},
   "outputs": [
    {
     "name": "stdout",
     "output_type": "stream",
     "text": [
      "Donnees :\n",
      "Prix:Any[42, 40, 25, 12]\n",
      "\n",
      "Poids:Any[7, 4, 5, 3]\n",
      "\n",
      "Tableau crée avec la fonction creationTab: array\n",
      "[0 0 0 0 0 0 0 42 42 42 42; 0 0 0 0 40 40 40 42 42 42 42; 0 0 0 0 40 40 40 42 42 65 65; 0 0 0 12 40 40 40 52 52 65 65]\n",
      "\n",
      "---------------------------------------------------\n",
      "\n",
      "BestProfit = 65\n",
      "BestSol x=[0; 1; 0; 1]\n"
     ]
    }
   ],
   "source": [
    "instance = \"instances/instance_exemple_cours.txt\"\n",
    "\n",
    "BestProfit, BestSol = SolveProblemeSacADos(instance)\n",
    "println(\"\\n---------------------------------------------------\\n\")\n",
    "println(\"BestProfit = \", BestProfit, \"\\nBestSol x=\", BestSol)"
   ]
  },
  {
   "cell_type": "markdown",
   "metadata": {},
   "source": [
    "### Test Instance 2 :\n",
    "Courte argumentation de l'adéquation du résultat avec cette instance.\n",
    "- Solution Obtenue\n",
    "- Valeurs de la Fonction-Objectif"
   ]
  },
  {
   "cell_type": "markdown",
   "metadata": {},
   "source": [
    "#### Affichage du résultat final avec cette instance :"
   ]
  },
  {
   "cell_type": "code",
   "execution_count": 20,
   "metadata": {},
   "outputs": [
    {
     "name": "stdout",
     "output_type": "stream",
     "text": [
      "Donnees :\n",
      "Prix:Any[1152, 1151, 1110, 1074, 1062, 1049, 994, 983, 950, 914, 886, 848, 839, 819, 814, 762, 737, 629, 403, 111]\n",
      "\n",
      "Poids:Any[994, 992, 893, 815, 791, 766, 667, 649, 598, 544, 506, 457, 446, 422, 416, 359, 334, 237, 94, 7]\n",
      "\n",
      "---------------------------------------------------\n",
      "\n",
      "BestProfit = 2291\n",
      "BestSol x=[0; 0; 1; 0; 0; 1; 0; 0; 0; 0; 0; 0; 0; 0; 1; 0; 1; 0; 0; 0]\n"
     ]
    }
   ],
   "source": [
    "# Pensez à commenter les affichages des données si très grande instances\n",
    "instance = \"instances/knapPI_16_20_1000_1_-2291.opb.txt\"\n",
    "\n",
    "BestProfit, BestSol = SolveProblemeSacADos(instance)\n",
    "println(\"\\n---------------------------------------------------\\n\")\n",
    "println(\"BestProfit = \", BestProfit, \"\\nBestSol x=\", BestSol)"
   ]
  },
  {
   "cell_type": "markdown",
   "metadata": {},
   "source": [
    "### Test Instance 3 :\n",
    "Courte argumentation de l'adéquation du résultat avec cette instance.\n",
    "- Solution Obtenue\n",
    "- Valeurs de la Fonction-Objectif"
   ]
  },
  {
   "cell_type": "markdown",
   "metadata": {},
   "source": [
    "#### Affichage du résultat final avec cette instance :"
   ]
  },
  {
   "cell_type": "code",
   "execution_count": 21,
   "metadata": {},
   "outputs": [
    {
     "name": "stdout",
     "output_type": "stream",
     "text": [
      "Donnees :\n",
      "Prix:Any[997, 997, 995, 994, 992, 984, 982, 972, 955, 955, 946, 943, 941, 931, 928, 923, 908, 902, 901, 895, 893, 887, 882, 874, 874, 872, 863, 858, 856, 845, 844, 819, 815, 810, 801, 801, 800, 800, 796, 795, 795, 794, 793, 791, 789, 785, 772, 769, 768, 766, 764, 764, 748, 744, 742, 741, 738, 737, 731, 730, 726, 724, 720, 719, 715, 707, 700, 696, 695, 686, 682, 674, 668, 667, 659, 656, 654, 649, 645, 636, 634, 633, 617, 617, 616, 608, 606, 600, 598, 595, 593, 588, 583, 574, 569, 561, 560, 553, 552, 544, 539, 537, 536, 529, 526, 518, 513, 513, 506, 493, 487, 487, 485, 481, 470, 465, 463, 458, 457, 451, 448, 448, 446, 442, 433, 428, 422, 421, 420, 419, 416, 408, 406, 398, 396, 375, 367, 363, 359, 358, 352, 347, 339, 334, 331, 326, 322, 320, 303, 299, 294, 277, 267, 261, 252, 248, 242, 240, 237, 220, 213, 204, 199, 196, 187, 183, 182, 171, 171, 160, 145, 138, 132, 131, 127, 122, 122, 116, 109, 107, 98, 97, 94, 94, 81, 72, 70, 70, 70, 70, 59, 58, 47, 43, 29, 23, 9, 8, 7, 1]\n",
      "\n",
      "Poids:Any[1097, 1097, 1095, 1094, 1092, 1084, 1082, 1072, 1055, 1055, 1046, 1043, 1041, 1031, 1028, 1023, 1008, 1002, 1001, 995, 993, 987, 982, 974, 974, 972, 963, 958, 956, 945, 944, 919, 915, 910, 901, 901, 900, 900, 896, 895, 895, 894, 893, 891, 889, 885, 872, 869, 868, 866, 864, 864, 848, 844, 842, 841, 838, 837, 831, 830, 826, 824, 820, 819, 815, 807, 800, 796, 795, 786, 782, 774, 768, 767, 759, 756, 754, 749, 745, 736, 734, 733, 717, 717, 716, 708, 706, 700, 698, 695, 693, 688, 683, 674, 669, 661, 660, 653, 652, 644, 639, 637, 636, 629, 626, 618, 613, 613, 606, 593, 587, 587, 585, 581, 570, 565, 563, 558, 557, 551, 548, 548, 546, 542, 533, 528, 522, 521, 520, 519, 516, 508, 506, 498, 496, 475, 467, 463, 459, 458, 452, 447, 439, 434, 431, 426, 422, 420, 403, 399, 394, 377, 367, 361, 352, 348, 342, 340, 337, 320, 313, 304, 299, 296, 287, 283, 282, 271, 271, 260, 245, 238, 232, 231, 227, 222, 222, 216, 209, 207, 198, 197, 194, 194, 181, 172, 170, 170, 170, 170, 159, 158, 147, 143, 129, 123, 109, 108, 107, 101]\n",
      "\n",
      "---------------------------------------------------\n",
      "\n",
      "BestProfit = 1041\n",
      "BestSol x=[0; 0; 0; 0; 0; 0; 0; 0; 0; 0; 0; 0; 0; 0; 0; 0; 0; 0; 0; 0; 0; 0; 0; 0; 0; 0; 0; 0; 0; 0; 0; 0; 0; 0; 0; 0; 0; 0; 0; 0; 0; 0; 0; 0; 0; 0; 0; 0; 0; 0; 0; 0; 0; 0; 0; 0; 0; 0; 0; 0; 0; 0; 0; 0; 0; 0; 0; 0; 0; 0; 0; 0; 0; 0; 0; 0; 0; 0; 0; 0; 0; 0; 0; 0; 0; 0; 0; 0; 0; 0; 0; 0; 0; 0; 0; 0; 0; 0; 0; 0; 0; 0; 0; 0; 0; 0; 0; 0; 0; 0; 0; 0; 0; 0; 0; 1; 0; 0; 0; 0; 0; 0; 0; 0; 0; 0; 0; 0; 0; 0; 0; 0; 1; 0; 0; 0; 0; 0; 0; 0; 0; 0; 0; 0; 0; 0; 0; 0; 0; 0; 0; 0; 0; 0; 0; 0; 0; 0; 0; 0; 0; 0; 0; 0; 0; 0; 0; 0; 0; 0; 0; 0; 0; 0; 0; 0; 0; 0; 0; 0; 0; 0; 0; 0; 0; 0; 0; 0; 0; 0; 0; 0; 0; 0; 0; 0; 0; 0; 0; 0]\n"
     ]
    }
   ],
   "source": [
    "# Pensez à commenter les affichages des données si très grande instances\n",
    "instance = \"instances/knapPI_4_100_1000_2_-1041.opb.txt\"\n",
    "\n",
    "BestProfit, BestSol = SolveProblemeSacADos(instance)\n",
    "println(\"\\n---------------------------------------------------\\n\")\n",
    "println(\"BestProfit = \", BestProfit, \"\\nBestSol x=\", BestSol)"
   ]
  },
  {
   "attachments": {},
   "cell_type": "markdown",
   "metadata": {},
   "source": [
    "### Comparaison avec les Résultats obtenues avec le Branch-and-Bound implémenté lors du TP2"
   ]
  },
  {
   "attachments": {},
   "cell_type": "markdown",
   "metadata": {},
   "source": [
    "Nous avons effectué des tests avec l'algorithme Branch-and-Bound implémenté lors du TP2 sur les trois instances utilisées ci-dessus. Nous remarquons que nous obtenons les mêmes résultats. L'algorithme utilisé dans le TP3, cependant, semble être plus efficace."
   ]
  }
 ],
 "metadata": {
  "kernelspec": {
   "display_name": "Julia 1.8.4",
   "language": "julia",
   "name": "julia-1.8"
  },
  "language_info": {
   "file_extension": ".jl",
   "mimetype": "application/julia",
   "name": "julia",
   "version": "1.8.4"
  }
 },
 "nbformat": 4,
 "nbformat_minor": 4
}
