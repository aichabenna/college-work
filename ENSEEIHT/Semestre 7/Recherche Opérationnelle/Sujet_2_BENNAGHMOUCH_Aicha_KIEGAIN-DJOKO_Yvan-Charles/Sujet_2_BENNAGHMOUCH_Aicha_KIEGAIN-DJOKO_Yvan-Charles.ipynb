{
 "cells": [
  {
   "cell_type": "markdown",
   "metadata": {},
   "source": [
    "# TP 2-3 : Branch-and-bound applied to a knapsack problem"
   ]
  },
  {
   "cell_type": "markdown",
   "metadata": {},
   "source": [
    "### Initialisation (à faire une seule fois)"
   ]
  },
  {
   "cell_type": "code",
   "execution_count": 1,
   "metadata": {},
   "outputs": [],
   "source": [
    "#import Pkg; \n",
    "#Pkg.add(\"GraphRecipes\"); Pkg.add(\"Plots\"); \n",
    "using GraphRecipes, Plots #only used to visualize the search tree at the end of the branch-and-bound"
   ]
  },
  {
   "cell_type": "markdown",
   "metadata": {},
   "source": [
    "### Récupération des données"
   ]
  },
  {
   "cell_type": "code",
   "execution_count": 2,
   "metadata": {},
   "outputs": [
    {
     "data": {
      "text/plain": [
       "readKnaptxtInstance (generic function with 1 method)"
      ]
     },
     "execution_count": 2,
     "metadata": {},
     "output_type": "execute_result"
    }
   ],
   "source": [
    "function readKnaptxtInstance(filename)\n",
    "    price=[]\n",
    "    weight=[]\n",
    "    KnapCap=[]\n",
    "    open(filename) do f\n",
    "        for i in 1:3\n",
    "            tok = split(readline(f))\n",
    "            if(tok[1] == \"ListPrices=\")\n",
    "                for i in 2:(length(tok)-1)\n",
    "                    push!(price,parse(Int64, tok[i]))\n",
    "                end\n",
    "            elseif(tok[1] == \"ListWeights=\")\n",
    "                for i in 2:(length(tok)-1)\n",
    "                    push!(weight,parse(Int64, tok[i]))\n",
    "                end\n",
    "            elseif(tok[1] == \"Capacity=\")\n",
    "                push!(KnapCap, parse(Int64, tok[2]))\n",
    "            else\n",
    "                println(\"Unknown read :\", tok)\n",
    "            end \n",
    "        end\n",
    "    end\n",
    "    capacity=KnapCap[1]\n",
    "    return price, weight, capacity\n",
    "end"
   ]
  },
  {
   "cell_type": "markdown",
   "metadata": {},
   "source": [
    "### Tests de sondabilités TA, TO et TR basés sur le modèle linéaire"
   ]
  },
  {
   "cell_type": "code",
   "execution_count": 3,
   "metadata": {},
   "outputs": [
    {
     "data": {
      "text/plain": [
       "TestsSondabilite_LP (generic function with 1 method)"
      ]
     },
     "execution_count": 3,
     "metadata": {},
     "output_type": "execute_result"
    }
   ],
   "source": [
    "function TestsSondabilite_LP(BS, BI, faisable, model2, xSup, xInf, BestProfit, Bestsol)\n",
    "    TA, TO, TR = false, false, false\n",
    "    if(!faisable)#Test de faisabilite\n",
    "        TA=true\n",
    "        #println(\"TA\")\n",
    "    elseif(BS <= BestProfit) #Test d'optimalite\n",
    "        TO=true\n",
    "        #println(\"TO\")\n",
    "    elseif( prod(abs.([round.(v, digits=0) for v in xSup]-xSup) .<= fill(10^-5, size(xSup))) && all(i->(i>=0&&i<=1),xSup)\n",
    "        ) #Test de resolution #vérifie que les solutions sont entières et compris entre 0 et 1(cette deuxième condition n'es utile que lorsque c'est BS1 qui est utilisé)\n",
    "        TR=true\n",
    "        #println(\"TR\")\n",
    "        #if (value(benef) >= BestProfit)\n",
    "        if (BS >= BestProfit)\n",
    "            Bestsol = copy(xSup)\n",
    "            #BestProfit=value(benef)\n",
    "            BestProfit=BS\n",
    "            #println(\"\\nNew Solution memorized \", Bestsol, \" with bestprofit \", BestProfit, \"\\n\")\n",
    "        end\n",
    "    else\n",
    "        #println(\"non sondable\")\n",
    "    end\n",
    "    TA, TO, TR, Bestsol, BestProfit\n",
    "end"
   ]
  },
  {
   "cell_type": "markdown",
   "metadata": {},
   "source": [
    "## Procédure de séparation (branching) et stratégie d'exploration permettant de se placer au prochain noeud à traiter"
   ]
  },
  {
   "cell_type": "code",
   "execution_count": 4,
   "metadata": {},
   "outputs": [
    {
     "data": {
      "text/plain": [
       "ExplorerAutreNoeud_depthfirst! (generic function with 1 method)"
      ]
     },
     "execution_count": 4,
     "metadata": {},
     "output_type": "execute_result"
    }
   ],
   "source": [
    "\n",
    "function SeparerNoeud_lexicographic_depthfirst!(obj,listobjs, listvals, n)\n",
    "    \n",
    "    #println(\"\\nbranch on object \", obj, \"\\n\") #on se branche sur l'objet obj qui est celui avec le meilleure ratio déterminé dans le calcul des BS\n",
    "\n",
    "    # maxBS exploration strategy: on choisit le noeud qui a le meilleure BS qui est celui où on ajoute l'objet où on se branche\n",
    "    push!(listobjs,obj) #save the identity of the object selected for branching\n",
    "    push!(listvals,1.0) #save the node selected, identified by the value assigned to the variable/object chosen\n",
    "end\n",
    "\n",
    "\n",
    "function ExplorerAutreNoeud_depthfirst!(listobjs, listvals, listnodes)\n",
    "    #this node is sondable, go back to parent node then right child if possible\n",
    "    \n",
    "    stop=false\n",
    "    #check if we are not at the root node\n",
    "    if (length(listobjs)>= 1)\n",
    "        #go back to parent node\n",
    "        obj=pop!(listobjs)\n",
    "        theval=pop!(listvals)\n",
    "        tmp=pop!(listnodes)\n",
    "\n",
    "        #go to right child if possible, otherwise go back to parent\n",
    "        while( (theval==0.0) && (length(listobjs)>= 1))\n",
    "            obj=pop!(listobjs)\n",
    "            theval=pop!(listvals)\n",
    "            tmp=pop!(listnodes)\n",
    "        end\n",
    "        if theval==1.0\n",
    "            push!(listobjs,obj)\n",
    "            push!(listvals,0.0)\n",
    "        else\n",
    "            println(\"\\nFINISHED\")\n",
    "            stop=true\n",
    "        end\n",
    "    else\n",
    "        #the root node was sondable\n",
    "        println(\"\\nFINISHED\")\n",
    "        stop=true\n",
    "    end\n",
    "    return stop \n",
    "end"
   ]
  },
  {
   "cell_type": "markdown",
   "metadata": {},
   "source": [
    "###  Création de la relaxation linéaire (= modèle associé au noeud 0): <span style=\"color:red\"> SECTION A SUPPRIMER !!!! </span>\n",
    "\n",
    "<span style=\"color:red\"> Cette section est à commenter/supprimer et remplacer par vos propres calculs de bornes supérieures et autres, par exemple basées sur les bornes 1 et 2 vues en cours, ou d'autres calculs de bornes de votre choix/conception validés au préalable par votre encadrant/e de TP </span>"
   ]
  },
  {
   "cell_type": "code",
   "execution_count": null,
   "metadata": {},
   "outputs": [],
   "source": [
    "function MajModele_LP!(x, listobjs, listvals)\n",
    "    for i in 1:length(listobjs)\n",
    "        x[listobjs[i]]= listvals[i]\n",
    "    end\n",
    "end\n",
    "\n",
    "function Reset_allLP!(x)\n",
    "    for i in 1:length(x)\n",
    "        x[i]=0.0\n",
    "    end\n",
    "end\n",
    "\n",
    "function CreationModele_LP(price, weight, capacity)\n",
    "# ROOT NODE\n",
    "    \n",
    "    n=length(price)\n",
    "    max(x) = sum(price[i]*x[i] for i in 1:n)\n",
    "    cond(x) = sum(weight[i]*x[i] for i in 1:n) <= capacity\n",
    "    x = zeros(n,1)\n",
    "    model2 = Dict(\"x\"=>x,\"objectif\"=>max, \"contrainte\" => cond) \n",
    "\n",
    "    return model2, x\n",
    "end\n",
    "\n",
    "function BS1(xSup,xInf,capacity,price,weight,listobjs,listvals)\n",
    "    BS = 0\n",
    "    BI = 0\n",
    "    n = length(xSup)\n",
    "    capacityTmp = capacity #capacity restante du sac à chaque instant \n",
    "    selectionnable = [] #objet qui n'ont pas encore été décidé si pris ou non\n",
    "    ratio = Dict() #dictionnaire associant à chaque ratio son objet correspondant\n",
    "    idObj = 1\n",
    "    for i in listobjs\n",
    "        capacityTmp = capacityTmp - listvals[idObj]*weight[i]\n",
    "        idObj = idObj+1\n",
    "    end\n",
    "    for i in 1:n\n",
    "        if(!(i in listobjs))\n",
    "            push!(selectionnable,i)\n",
    "            ratio[price[i]/weight[i]] = i\n",
    "        end       \n",
    "    end\n",
    "    obj = 1\n",
    "    if(selectionnable !=[])\n",
    "        ratiomax = maximum(ratio)[1]\n",
    "        obj = ratio[ratiomax] #objet sur lequel est effectué le branchement\n",
    "        xSup[obj] = capacityTmp/weight[obj] #autant de fois possible le meilleur objet\n",
    "    end\n",
    "    return xSup,xInf,obj\n",
    "end\n",
    "\n",
    "function BS2(xSup,xInf,capacity,price,weight,listobjs,listvals)\n",
    "    BS = 0\n",
    "    BI = 0\n",
    "    n = length(xSup)\n",
    "    capacityTmp = capacity #capacity restante du sac à chaque instant \n",
    "    selectionnable = [] #objet qui n'ont pas encore été décidé si pris ou non\n",
    "    ratio = Dict() #dictionnaire associant à chaque ratio son objet correspondant\n",
    "    idObj = 1 #index de l'objet dans la list des valeurs\n",
    "    \n",
    "    for i in listobjs\n",
    "        capacityTmp = capacityTmp - listvals[idObj]*weight[i]\n",
    "        idObj = idObj+1\n",
    "    end\n",
    "    for i in 1:n\n",
    "        if(!(i in listobjs))\n",
    "            push!(selectionnable,i)\n",
    "            ratio[price[i]/weight[i]] = i\n",
    "        end       \n",
    "    end\n",
    "    objChoisi = 1\n",
    "    if(selectionnable !=[])\n",
    "        objChoisi = ratio[maximum(ratio)[1]]\n",
    "        while ratio!=Dict()\n",
    "            ratiomax = maximum(ratio)[1] #toujours essayé d'ajouter l'objet de meilleure ratio dans les selectionnables\n",
    "            obj = ratio[ratiomax]\n",
    "            delete!(ratio,ratiomax) #retiré l'objet et son ratio vu qu'il sera ajouté dans le sac donc n'est plus sélectionnable\n",
    "            if(capacityTmp-weight[obj] < 0) #si plus de place dans le sac mettre suffisament(<1) le meilleur objet actuel pour le remplir\n",
    "                xSup[obj] = capacityTmp/weight[obj]\n",
    "                break\n",
    "            else #sinon mettre l'objet en entier\n",
    "                xSup[obj] = 1.0\n",
    "                xInf[obj] = 1.0\n",
    "                capacityTmp = capacityTmp-weight[obj]\n",
    "            end\n",
    "        end\n",
    "        \n",
    "    end\n",
    "    return xSup,xInf,objChoisi\n",
    "end"
   ]
  },
  {
   "cell_type": "markdown",
   "metadata": {},
   "source": [
    "### Boucle principale : résoudre une relaxation, appliquer les tests de sondabilité, identifier le prochain noeud, répéter."
   ]
  },
  {
   "cell_type": "code",
   "execution_count": 6,
   "metadata": {},
   "outputs": [
    {
     "data": {
      "text/plain": [
       "SolveKnapInstance (generic function with 1 method)"
      ]
     },
     "execution_count": 6,
     "metadata": {},
     "output_type": "execute_result"
    }
   ],
   "source": [
    "\n",
    "function SolveKnapInstance(filename,Borne)\n",
    "\n",
    "    price, weight, capacity = readKnaptxtInstance(filename)\n",
    "\n",
    "    model2, x = CreationModele_LP(price, weight, capacity)\n",
    "    n = length(x)\n",
    "    #create the structure to memorize the search tree for visualization at the end\n",
    "    trParentnodes=Int64[] #will store orig node of arc in search tree\n",
    "    trChildnodes=Int64[] #will store destination node of arc in search tree\n",
    "    trNamenodes=[] #will store names of nodes in search tree\n",
    "\n",
    "    #intermediate structure to navigate in the search tree\n",
    "    listobjs=[]\n",
    "    listvals=[]\n",
    "    listnodes=[]\n",
    "\n",
    "    BestProfit=-1\n",
    "    Bestsol=[]\n",
    "\n",
    "    current_node_number=0\n",
    "    stop = false\n",
    "    \n",
    "    while(!stop)\n",
    "\n",
    "        #println(\"\\nNode number \", current_node_number, \": \\n---------------\\n\")\n",
    "\n",
    "        #Update the graphical tree\n",
    "        push!(trNamenodes,current_node_number+1) \n",
    "        if(length(trNamenodes)>=2)\n",
    "            push!(trParentnodes,listnodes[end]+1) # +1 because the 1st node is \"node 0\"\n",
    "            push!(trChildnodes, current_node_number+1) # +1 because the 1st node is \"node 0\"\n",
    "        end\n",
    "        push!(listnodes, current_node_number)\n",
    "\n",
    "        \n",
    "        #create LP of current node\n",
    "        MajModele_LP!(x, listobjs, listvals)\n",
    "        \n",
    "        xInf = copy(x)\n",
    "        xSup = copy(x)\n",
    "        #println(model2)\n",
    "        \n",
    "        #print(\"Solve the LP model of the current node to compute its bound: start ... \")\n",
    "        obj=1\n",
    "        if Borne == \"BS1\" #choix de la borne\n",
    "            xSup,xInf,obj = BS1(xSup,xInf,capacity,price,weight,listobjs,listvals)\n",
    "        else \n",
    "            xSup,xInf,obj = BS2(xSup,xInf,capacity,price,weight,listobjs,listvals)\n",
    "        end\n",
    "        \n",
    "        #println(\"... end\"); \n",
    "        BS = model2[\"objectif\"](xSup)\n",
    "        BI = model2[\"objectif\"](xInf)\n",
    "        faisable = model2[\"contrainte\"](x) #si la contrainte du model est respecté donc pas plus d'ojet qu'il y'a de place\n",
    "        #println(\": Solution LP\")\n",
    "        \n",
    "        \"\"\"if(!faisable)#(has_values(model2))\n",
    "            print(\" : NOT AVAILABLE (probably infeasible or ressources limit reached)\")\n",
    "        else\n",
    "            print(\"BS :\", BS)\n",
    "            [print(\"\\t \",\"x[\",i,\"]\",\"=\",xSup[i]) for i in 1:n]\n",
    "            println(\"\\n\")\n",
    "             print(\"BI:\", BI)\n",
    "            [print(\"\\t \",\"x[\",i,\"]\",\"=\",xInf[i]) for i in 1:n]\n",
    "        end\n",
    "        println(\"\"); \n",
    "\n",
    "\n",
    "        println(\"\\nPrevious Solution memorized \", Bestsol, \" with bestprofit \", BestProfit, \"\\n\")\"\"\"\n",
    "\n",
    "        TA, TO, TR, Bestsol, BestProfit = TestsSondabilite_LP(BS, BI, faisable, model2, xSup, xInf, BestProfit, Bestsol)\n",
    "\n",
    "        is_node_sondable = TA || TO || TR\n",
    "\n",
    "\n",
    "        if(!is_node_sondable)\n",
    "            if (BI > BestProfit) #si le noeud est nonsondable mais que sa BI est meilleure que la meilleure solution connue on la met à jour\n",
    "                Bestsol = copy(xInf)\n",
    "                #BestProfit=value(benef)\n",
    "                BestProfit=BI\n",
    "                #println(\"\\nNew Solution memorized \", Bestsol, \" with bestprofit \", BestProfit, \"\\n\")\n",
    "            end\n",
    "            SeparerNoeud_lexicographic_depthfirst!(obj,listobjs, listvals, length(price))\n",
    "        else\n",
    "            stop = ExplorerAutreNoeud_depthfirst!(listobjs, listvals, listnodes)\n",
    "        end\n",
    "        \n",
    "        Reset_allLP!(x)\n",
    "\n",
    "        current_node_number = current_node_number + 1\n",
    "    end\n",
    "\n",
    "    #println(\"\\n******\\n\\nOptimal value = \", BestProfit, \"\\n\\nOptimal x=\", Bestsol)\n",
    "\n",
    "    return BestProfit, Bestsol, trParentnodes, trChildnodes, trNamenodes\n",
    "\n",
    "end\n"
   ]
  },
  {
   "cell_type": "markdown",
   "metadata": {},
   "source": [
    "### Affichage du résultat final"
   ]
  },
  {
   "cell_type": "code",
   "execution_count": 25,
   "metadata": {},
   "outputs": [
    {
     "name": "stdout",
     "output_type": "stream",
     "text": [
      "\n",
      "FINISHED\n",
      "\n",
      "******\n",
      "\n",
      "Nombre de Noeud = 17361\n",
      "\n",
      "Optimal value = 1005.0\n",
      "\n",
      "Optimal x=[1.0; 0.0; 0.0; 0.0; 0.0; 0.0; 0.0; 0.0; 0.0; 0.0; 0.0; 0.0; 0.0; 0.0; 1.0; 0.0; 0.0; 0.0; 0.0; 0.0; 0.0; 1.0; 1.0; 0.0; 0.0; 0.0; 0.0; 0.0; 0.0; 1.0; 0.0; 0.0; 0.0; 0.0; 0.0; 0.0; 0.0; 0.0; 0.0; 0.0; 0.0; 0.0; 1.0; 0.0; 1.0; 0.0; 0.0; 0.0; 0.0; 0.0]\n"
     ]
    }
   ],
   "source": [
    "InstanceEtu = \"instancesETU/KNAPnewformat/profit_ceiling/knapPI_15_50_1000_1_-1005.opb.txt\"\n",
    "BestProfit, Bestsol, trParentnodes, trChildnodes, trNamenodes = SolveKnapInstance(InstanceEtu,\"BS2\")\n",
    "println(\"\\n******\\n\\nNombre de Noeud = \",length(trNamenodes),\"\\n\\nOptimal value = \", BestProfit, \"\\n\\nOptimal x=\", Bestsol)\n",
    "# graphplot(trParentnodes, trChildnodes, names=trNamenodes, method=:tree)"
   ]
  },
  {
   "cell_type": "markdown",
   "metadata": {},
   "source": [
    "## COMPTE RENDU\n",
    "\n",
    "### Questions Préliminaires\n",
    "\n",
    "1. La règle de séparation ici est de choisir les objets par ordre lexicographique dans cette exemple ce sera l'objet 1 puis 2 puis 3 puis 4\n",
    "\n",
    "2. La méthode est celle de BS2 dans notre cours donc une relaxation linéaire du probléme du sac à dos où x appartient à IR et 0 <= x <= 1\n",
    "3. TA est validé si la solution est faisable donc ne viole pas les contraintes du modèle\n",
    "\n",
    "   T0 est validé si la fonction objectif pour la solution actuelle est inférieur au meilleur profit au moment du test\n",
    "   \n",
    "   TR est validé si la solution est entière donc chaque valeur d'objet est une valeur entière\n",
    "   \n",
    "4. partir dans le noeud où on ajoute l'objet sur lequel on s'est branché avec la règle de séparation\n",
    "\n",
    "### Code et Analyse\n",
    "\n",
    "3. Les points clés de mon implémentation ont été pour:\n",
    "- la règle de Séparation : de donner directement en paramètre de la fonction l'objet sur lequel se brancher (qui est celui avec le meilleur ratio coût/prix) car ce calcul etait effectuer lors du calcul de la BS et BI, pour eviter ainsi de la redondance.\n",
    "- le TA : de garder les données de x dans le noeud courant pour verifier si la contraintes de notre modèle est respecté.\n",
    "- le TO : de pouvoir calculer la BorneSup afin de la comparer avec le meilleure profit connue\n",
    "- le TR : de rajouter une condition sur le faite que les valeurs de x sont compris entre 0 et 1 ce qui est inutile lorsque l'on utilise BS2 mais l'est quand on utilise BS1 qui n'impose pas cette contrainte sur les valeurs des objets (xSup[1] = 2. est possible dans BS1 mais pas dans BS2)\n",
    "- la statégie d'exploration : de voir que la meilleure BS sera toujours dans le noeud où l'on ajoute l'objet sur lequel on se branche ce qui etait déja le cas dans l'exemple q'on nous a donné donc pas de modification\n",
    "\n",
    "4. Pour les structures de données on a décidé :\n",
    "- d'utiliser une dictionnaire pour stocker la contrainte et la fonction objectif de notre modèle de notre modèle.\n",
    "- d'utiliser 3 vecteurs distincts x,xInf,xSup pour conserver respectivement la valeur des objets dans un noeud, celle des objets permettant de calculer la BS dans ce noeud et celle des objets permettant de calculer la BI dans ce noeud.\n",
    "- d'utiliser un dictionnaire pour associer les ratios aux objets et permettant plus facilement de récupérer le ratio et l'objet qui lui est associé.\n",
    "\n",
    "5. On a comparé les performances en utilisant borne 1 et borne 2 sur plusieurs test et on remarque d'abord dans l'ensemble la borne 2 est plus efficace que la borne 1 (qui selon nous est dû au faites du calcul de la borneInf qui est meilleure avec Borne 2) . mais que suivant la façon dont les données sont liés entre elle l'écart sera plus ou moins présent comme par exemple entre des données circle, inverse_strongly_correlated ou encore uncorrelated il y'aura un gros ecart entre la performance des deux algorithmes tandis que quand les données sont similar_weight ou multiple_strongly_corrolated on a quasiment les mêmes performances pour les deux algorithmes.    \n",
    "Quelques test réalisé: BS1 || BS2  (noeud)  \n",
    "circle/knapPI_16_20_1000_4_-2893.opb : 15369 || 3627  \n",
    "inverse_strongly_correlated/knapPI_4_50_1000_5_-1278.opb.txt : 4463 || 893  \n",
    "uncorrelated/knapPI_1_50_1000_4_-4888.opb.txt : 2665 || 427  \n",
    "similar_weights\\knapPI_9_50_1000_4_-976.opb.txt : 18893 || 18893  \n",
    "multiple_strongly_correlated\\knapPI_14_200_1000_2_-6898.opb.txt : 20833 || 20831\n",
    "\n",
    "PS : La mise en commentaire dans le code des print et de l'affichage graphique a été mise pour décharger le code d'affichage qui peuvent empêcher qu'il s'affiche en entier s'il y'a trop de noeud et du graphplot qui devient illisible quand il y'a trop de noeud ils pourront être décommenté dans le cas du test.opb pour vérifier les états d'avancement dans le code"
   ]
  }
 ],
 "metadata": {
  "kernelspec": {
   "display_name": "Julia 1.6.7",
   "language": "julia",
   "name": "julia-1.6"
  },
  "language_info": {
   "file_extension": ".jl",
   "mimetype": "application/julia",
   "name": "julia",
   "version": "1.6.7"
  }
 },
 "nbformat": 4,
 "nbformat_minor": 4
}
