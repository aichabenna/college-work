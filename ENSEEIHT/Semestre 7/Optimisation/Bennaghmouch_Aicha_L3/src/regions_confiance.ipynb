{
 "cells": [
  {
   "cell_type": "markdown",
   "metadata": {},
   "source": [
    "<center>\n",
    "<h1> TP-Projet d'optimisation numérique </h1>\n",
    "<h1> Algorithme des Régions de Confiance </h1>\n",
    "</center>"
   ]
  },
  {
   "cell_type": "markdown",
   "metadata": {},
   "source": [
    "# Régions de confiance avec Pas de Cauchy \n",
    "\n",
    "## Implémentation \n",
    "\n",
    "1. Coder l'algorithme du pas de Cauchy d’un sous-problème de\n",
    "régions de confiance (fichier `Pas_De_Cauchy.jl`). La spécification de cet algorithme est donnée ci-dessous."
   ]
  },
  {
   "cell_type": "code",
   "execution_count": 1,
   "metadata": {},
   "outputs": [
    {
     "data": {
      "text/plain": [
       "Pas_De_Cauchy"
      ]
     },
     "execution_count": 1,
     "metadata": {},
     "output_type": "execute_result"
    }
   ],
   "source": [
    "using LinearAlgebra\n",
    "using Documenter\n",
    "using Markdown  \n",
    "include(\"Pas_De_Cauchy.jl\")\n",
    "# @doc Pas_De_Cauchy"
   ]
  },
  {
   "cell_type": "markdown",
   "metadata": {},
   "source": [
    "2. Ecrire des tests exhaustifs (qui testent tous les cas de figure possibles) pour votre algorithme du Pas de Cauchy. Vous créerez pour cela un fichier `tester_pas_de_Cauchy.jl` dans le répertoire `test` sur le modèle des autres fichiers de tests et vous exécuterez dans la cellule de code ci-après ces tests."
   ]
  },
  {
   "cell_type": "code",
   "execution_count": 2,
   "metadata": {
    "scrolled": false
   },
   "outputs": [
    {
     "name": "stdout",
     "output_type": "stream",
     "text": [
      "Cauchy 6= [-4.743416490252569, -1.5811388300841895]\n",
      "\u001b[37m\u001b[1mTest Summary:      | \u001b[22m\u001b[39m\u001b[32m\u001b[1mPass  \u001b[22m\u001b[39m\u001b[36m\u001b[1mTotal\u001b[22m\u001b[39m\n",
      "Test pas de cauchy | \u001b[32m   7  \u001b[39m\u001b[36m    7\u001b[39m\n"
     ]
    }
   ],
   "source": [
    "\n",
    "using Test\n",
    "\n",
    "# Tolérance pour les tests d'égalité\n",
    "tol_erreur = sqrt(eps())\n",
    "\n",
    "## ajouter les fonctions de test\n",
    "include(\"../src/Pas_De_Cauchy.jl\")\n",
    "include(\"../test/tester_pas_de_cauchy.jl\")\n",
    "\n",
    "affiche = true\n",
    "\n",
    "@testset \"Test pas de cauchy\" begin\n",
    "\ttester_pas_de_cauchy(affiche,Pas_De_Cauchy)\n",
    "end;"
   ]
  },
  {
   "cell_type": "markdown",
   "metadata": {},
   "source": [
    "3. Coder l'algorithme des Régions de Confiance (fichier `Regions_De_Confiance.jl`). Sa spécification est donnée ci-dessous."
   ]
  },
  {
   "cell_type": "code",
   "execution_count": 3,
   "metadata": {},
   "outputs": [
    {
     "data": {
      "text/plain": [
       "Regions_De_Confiance (generic function with 1 method)"
      ]
     },
     "execution_count": 3,
     "metadata": {},
     "output_type": "execute_result"
    }
   ],
   "source": [
    "include(\"Regions_De_Confiance.jl\")\n",
    "# @doc Regions_De_Confiance"
   ]
  },
  {
   "cell_type": "markdown",
   "metadata": {},
   "source": [
    "4. Vérifier que les tests ci-dessous passent."
   ]
  },
  {
   "cell_type": "code",
   "execution_count": 8,
   "metadata": {},
   "outputs": [
    {
     "name": "stdout",
     "output_type": "stream",
     "text": [
      "-------------------------------------------------------------------------\n",
      "\u001b[34m\u001b[1mRésultats de : régions de confiance avec cauchy appliqué à fonction 1 au point initial x011 :\u001b[22m\u001b[39m\n",
      "  * xsol = [1.0000558873349883, 0.999992420017735, 0.9999289527004819]\n",
      "  * f(xsol) = 9.090411079109608e-9\n",
      "  * nb_iters = 26\n",
      "  * flag = 2\n",
      "  * sol_exacte : [1, 1, 1]\n",
      "-------------------------------------------------------------------------\n",
      "\u001b[34m\u001b[1mRésultats de : régions de confiance avec cauchy appliqué à fonction 1 au point initial x012 :\u001b[22m\u001b[39m\n",
      "  * xsol = [1.000049795462743, 0.9999961002424803, 0.9999424049876057]\n",
      "  * f(xsol) = 6.0401046516733e-9\n",
      "  * nb_iters = 28\n",
      "  * flag = 2\n",
      "  * sol_exacte : [1, 1, 1]\n",
      "-------------------------------------------------------------------------\n",
      "\u001b[34m\u001b[1mRésultats de : régions de confiance avec cauchy appliqué à fonction 2 au point initial x021 :\u001b[22m\u001b[39m\n",
      "  * xsol = [0.9975992881488459, 0.9951970760635648]\n",
      "  * f(xsol) = 5.7686934556110335e-6\n",
      "  * nb_iters = 3988\n",
      "  * flag = 2\n",
      "  * sol_exacte : [1, 1]\n",
      "iters = 864\n",
      "-------------------------------------------------------------------------\n",
      "\u001b[34m\u001b[1mRésultats de : régions de confiance avec cauchy appliqué à fonction 2 au point initial x022 :\u001b[22m\u001b[39m\n",
      "  * xsol = [0.9961677295959247, 0.9923393628794702]\n",
      "  * f(xsol) = 1.4697922915267688e-5\n",
      "  * nb_iters = 864\n",
      "  * flag = 0\n",
      "  * sol_exacte : [1, 1]\n",
      "-------------------------------------------------------------------------\n",
      "\u001b[34m\u001b[1mRésultats de : régions de confiance avec cauchy appliqué à fonction 2 au point initial x023 :\u001b[22m\u001b[39m\n",
      "  * xsol = [0.9980249833121311, 0.9960352320625151]\n",
      "  * f(xsol) = 3.935418181547467e-6\n",
      "  * nb_iters = 3198\n",
      "  * flag = 2\n",
      "  * sol_exacte : [1, 1]\n",
      "-------------------------------------------------------------------------\n",
      "\u001b[34m\u001b[1mRésultats de : régions de confiance avec gct appliqué à fonction 1 au point initial x011 :\u001b[22m\u001b[39m\n",
      "  * xsol = [1.0000000000000007, 1.0, 1.0]\n",
      "  * f(xsol) = 2.0214560696288428e-30\n",
      "  * nb_iters = 1\n",
      "  * flag = 0\n",
      "  * sol_exacte : [1, 1, 1]\n",
      "-------------------------------------------------------------------------\n",
      "\u001b[34m\u001b[1mRésultats de : régions de confiance avec gct appliqué à fonction 1 au point initial x012 :\u001b[22m\u001b[39m\n",
      "  * xsol = [0.9999999999999996, 1.0000000000000004, 1.0000000000000009]\n",
      "  * f(xsol) = 2.5637979419682884e-30\n",
      "  * nb_iters = 3\n",
      "  * flag = 0\n",
      "  * sol_exacte : [1, 1, 1]\n",
      "-------------------------------------------------------------------------\n",
      "\u001b[34m\u001b[1mRésultats de : régions de confiance avec gct appliqué à fonction 2 au point initial x021 :\u001b[22m\u001b[39m\n",
      "  * xsol = [0.999999674378009, 0.9999993478371609]\n",
      "  * f(xsol) = 1.0611413034983129e-13\n",
      "  * nb_iters = 31\n",
      "  * flag = 0\n",
      "  * sol_exacte : [1, 1]\n",
      "-------------------------------------------------------------------------\n",
      "\u001b[34m\u001b[1mRésultats de : régions de confiance avec gct appliqué à fonction 2 au point initial x022 :\u001b[22m\u001b[39m\n",
      "  * xsol = [1.0000035183009863, 1.0000066949336202]\n",
      "  * f(xsol) = 2.4053014026923312e-11\n",
      "  * nb_iters = 44\n",
      "  * flag = 0\n",
      "  * sol_exacte : [1, 1]\n",
      "-------------------------------------------------------------------------\n",
      "\u001b[34m\u001b[1mRésultats de : régions de confiance avec gct appliqué à fonction 2 au point initial x023 :\u001b[22m\u001b[39m\n",
      "  * xsol = [1.0000000000000007, 1.0, 1.0]\n",
      "  * f(xsol) = 3.1813581453548166e-24\n",
      "  * nb_iters = 19\n",
      "  * flag = 0\n",
      "  * sol_exacte : [1, 1]\n",
      "\u001b[37m\u001b[1mTest Summary:       | \u001b[22m\u001b[39m\u001b[32m\u001b[1mPass  \u001b[22m\u001b[39m\u001b[36m\u001b[1mTotal\u001b[22m\u001b[39m\n",
      "Test rc avec cauchy | \u001b[32m  30  \u001b[39m\u001b[36m   30\u001b[39m\n"
     ]
    }
   ],
   "source": [
    "using Test\n",
    "\n",
    "# Tolérance pour les tests d'égalité\n",
    "tol_erreur = sqrt(eps())\n",
    "\n",
    "## ajouter les fonctions de test\n",
    "include(\"../test/fonctions_de_tests.jl\")\n",
    "include(\"../test/tester_regions_de_confiance.jl\")\n",
    "include(\"../src/Pas_De_Cauchy.jl\")\n",
    "include(\"../src/Regions_De_Confiance.jl\")\n",
    "include(\"../src/Gradient_Conjugue_Tronque.jl\")\n",
    "\n",
    "affiche = true\n",
    "\n",
    "@testset \"Test rc avec cauchy\" begin\n",
    "\ttester_regions_de_confiance(affiche,Regions_De_Confiance)\n",
    "end;"
   ]
  },
  {
   "cell_type": "markdown",
   "metadata": {},
   "source": [
    "## Interprétation \n",
    "\n",
    "<!-- Pour ces questions, des représentations graphiques sont attendues pour corroborer vos réponses. -->\n",
    "\n",
    "1. Soit $$ f_{1} : \\mathbf{R}^3 \\rightarrow \\mathbf{R}$$ $$ (x_1,x_2, x_3) \\mapsto  2 (x_1 +x_2 + x_3 -3)^2 + (x_1-x_2)^2 + (x_2 - x_3)^2$$ Quelle relation lie la fonction $f_1$ et son modèle de Taylor à l’ordre 2 ? Comparer alors les performances de Newton et RC-Pas de Cauchy sur cette fonction.\n",
    "\n",
    "La fonction $f_1$ et son modèle de Taylor à l’ordre 2 sont égaux.\n",
    "Comme précédemment montré dans la question 2 de Alog_Newton, cette fonction converge en une seule itération avec l'Algorithme de Newton. Cependant, avec l'Algorithme RC-Pas de Cauchy, elle ne converge qu'après 28 itérations. L'Algorithme de Newton est donc plus efficace.\n",
    "L'Algorithme RC-Pas de Cauchy utilise la résolution par approximation de Taylor à l’ordre 2 (modèle quadratique). Mais cette simplification est inutile dans ce cas.\n",
    "\n",
    "2.  Le rayon initial de la région de confiance est un paramètre important dans l’analyse\n",
    "de la performance de l’algorithme. Sur quel(s) autre(s) paramètre(s) peut-on jouer\n",
    "pour essayer d’améliorer cette performance ? Étudier l’influence d’au moins deux de\n",
    "ces paramètres. Pour cela vous ferez des tests numériques et donnerez les résultats sous forme de tableaux et de graphiques.\n",
    "\n",
    "Afin d'essayer d'améliorer cette performance, on peut jouer sur $\\gamma_1$ et $\\gamma_2$ et $\\eta_1$ et $\\eta_2$. \n",
    "En effet, les valeurs de $\\gamma_1$ et $\\gamma_2$ permettent de réduire ou d'augmenter la région de confiance selon l'approximation de $f$ par sa série de Taylor, et $\\eta_1$ et $\\eta_2$ permettent de déterminer si l'exactitude de l'approximation de $f$ par sa série de Taylor. \n",
    "Ces quatres paramètres influent sur $\\delta_k$.\n",
    "\n",
    "Tests numériques et Résultats :\n",
    "\n",
    "Influence de $\\eta_1$ :\n",
    "Pour $f_2$ au point initial $x_{023}$:\n",
    "1. sol = $[0.9999370949654659, 0.9998739880304974]$ et $\\eta_1 = 0.1$\n",
    "2. sol = $[0.9999993488201874, 0.9999986988623017]$ et $\\eta_1 = 0.5$\n",
    "\n",
    "On voit donc que plus $\\eta_1$ est élevé, l'algorithme converge plus rapidement.\n"
   ]
  },
  {
   "cell_type": "markdown",
   "metadata": {},
   "source": [
    "# Régions de confiance avec Gradient Conjugué\n",
    "## Implémentation \n",
    "\n",
    "1. Implémenter l’algorithme du Gradient Conjugué Tronqué (fichier `Gradient_Conjugue_Tronque.jl`). Sa spécification est donnée ci-dessous."
   ]
  },
  {
   "cell_type": "code",
   "execution_count": 5,
   "metadata": {},
   "outputs": [
    {
     "data": {
      "text/plain": [
       "Gradient_Conjugue_Tronque"
      ]
     },
     "execution_count": 5,
     "metadata": {},
     "output_type": "execute_result"
    }
   ],
   "source": [
    "include(\"Gradient_Conjugue_Tronque.jl\")\n",
    "# @doc Gradient_Conjugue_Tronque"
   ]
  },
  {
   "cell_type": "markdown",
   "metadata": {},
   "source": [
    "2. Vérifier que les tests ci-dessous passent."
   ]
  },
  {
   "cell_type": "code",
   "execution_count": 7,
   "metadata": {
    "scrolled": true
   },
   "outputs": [
    {
     "name": "stdout",
     "output_type": "stream",
     "text": [
      "\u001b[37m\u001b[1mTest Summary: | \u001b[22m\u001b[39m\u001b[32m\u001b[1mPass  \u001b[22m\u001b[39m\u001b[36m\u001b[1mTotal\u001b[22m\u001b[39m\n",
      "Test gct      | \u001b[32m   9  \u001b[39m\u001b[36m    9\u001b[39m\n"
     ]
    }
   ],
   "source": [
    "using Test\n",
    "\n",
    "# Tolérance pour les tests d'égalité\n",
    "tol_erreur = sqrt(eps())\n",
    "\n",
    "## ajouter les fonctions de test\n",
    "include(\"../test/fonctions_de_tests.jl\")\n",
    "include(\"../test/tester_gct.jl\")\n",
    "include(\"../src/Gradient_Conjugue_Tronque.jl\")\n",
    "\n",
    "affiche = false\n",
    "\n",
    "@testset \"Test gct\" begin\n",
    "\ttester_gct(affiche,Gradient_Conjugue_Tronque)\n",
    "end;"
   ]
  },
  {
   "cell_type": "markdown",
   "metadata": {},
   "source": [
    "3. Intégrer l’algorithme du Gradient Conjugué Tronqué dans le code de régions de confiance (fichier `Regions_De_Confiance.jl`).\n",
    "\n",
    "4. Décommenter les tests avec le gradient conjugué dans `tester_regions_de_confiance.jl` et vérifier que les tests passent."
   ]
  },
  {
   "cell_type": "code",
   "execution_count": 9,
   "metadata": {},
   "outputs": [
    {
     "name": "stdout",
     "output_type": "stream",
     "text": [
      "-------------------------------------------------------------------------\n",
      "\u001b[34m\u001b[1mRésultats de : régions de confiance avec cauchy appliqué à fonction 1 au point initial x011 :\u001b[22m\u001b[39m\n",
      "  * xsol = [1.0000558873349883, 0.999992420017735, 0.9999289527004819]\n",
      "  * f(xsol) = 9.090411079109608e-9\n",
      "  * nb_iters = 26\n",
      "  * flag = 2\n",
      "  * sol_exacte : [1, 1, 1]\n",
      "-------------------------------------------------------------------------\n",
      "\u001b[34m\u001b[1mRésultats de : régions de confiance avec cauchy appliqué à fonction 1 au point initial x012 :\u001b[22m\u001b[39m\n",
      "  * xsol = [1.000049795462743, 0.9999961002424803, 0.9999424049876057]\n",
      "  * f(xsol) = 6.0401046516733e-9\n",
      "  * nb_iters = 28\n",
      "  * flag = 2\n",
      "  * sol_exacte : [1, 1, 1]\n",
      "-------------------------------------------------------------------------\n",
      "\u001b[34m\u001b[1mRésultats de : régions de confiance avec cauchy appliqué à fonction 2 au point initial x021 :\u001b[22m\u001b[39m\n",
      "  * xsol = [0.9975992881488459, 0.9951970760635648]\n",
      "  * f(xsol) = 5.7686934556110335e-6\n",
      "  * nb_iters = 3988\n",
      "  * flag = 2\n",
      "  * sol_exacte : [1, 1]\n",
      "iters = 864\n",
      "-------------------------------------------------------------------------\n",
      "\u001b[34m\u001b[1mRésultats de : régions de confiance avec cauchy appliqué à fonction 2 au point initial x022 :\u001b[22m\u001b[39m\n",
      "  * xsol = [0.9961677295959247, 0.9923393628794702]\n",
      "  * f(xsol) = 1.4697922915267688e-5\n",
      "  * nb_iters = 864\n",
      "  * flag = 0\n",
      "  * sol_exacte : [1, 1]\n",
      "-------------------------------------------------------------------------\n",
      "\u001b[34m\u001b[1mRésultats de : régions de confiance avec cauchy appliqué à fonction 2 au point initial x023 :\u001b[22m\u001b[39m\n",
      "  * xsol = [0.9980249833121311, 0.9960352320625151]\n",
      "  * f(xsol) = 3.935418181547467e-6\n",
      "  * nb_iters = 3198\n",
      "  * flag = 2\n",
      "  * sol_exacte : [1, 1]\n",
      "-------------------------------------------------------------------------\n",
      "\u001b[34m\u001b[1mRésultats de : régions de confiance avec gct appliqué à fonction 1 au point initial x011 :\u001b[22m\u001b[39m\n",
      "  * xsol = [1.0000000000000007, 1.0, 1.0]\n",
      "  * f(xsol) = 2.0214560696288428e-30\n",
      "  * nb_iters = 1\n",
      "  * flag = 0\n",
      "  * sol_exacte : [1, 1, 1]\n",
      "-------------------------------------------------------------------------\n",
      "\u001b[34m\u001b[1mRésultats de : régions de confiance avec gct appliqué à fonction 1 au point initial x012 :\u001b[22m\u001b[39m\n",
      "  * xsol = [0.9999999999999996, 1.0000000000000004, 1.0000000000000009]\n",
      "  * f(xsol) = 2.5637979419682884e-30\n",
      "  * nb_iters = 3\n",
      "  * flag = 0\n",
      "  * sol_exacte : [1, 1, 1]\n",
      "-------------------------------------------------------------------------\n",
      "\u001b[34m\u001b[1mRésultats de : régions de confiance avec gct appliqué à fonction 2 au point initial x021 :\u001b[22m\u001b[39m\n",
      "  * xsol = [0.999999674378009, 0.9999993478371609]\n",
      "  * f(xsol) = 1.0611413034983129e-13\n",
      "  * nb_iters = 31\n",
      "  * flag = 0\n",
      "  * sol_exacte : [1, 1]\n",
      "-------------------------------------------------------------------------\n",
      "\u001b[34m\u001b[1mRésultats de : régions de confiance avec gct appliqué à fonction 2 au point initial x022 :\u001b[22m\u001b[39m\n",
      "  * xsol = [1.0000035183009863, 1.0000066949336202]\n",
      "  * f(xsol) = 2.4053014026923312e-11\n",
      "  * nb_iters = 44\n",
      "  * flag = 0\n",
      "  * sol_exacte : [1, 1]\n",
      "-------------------------------------------------------------------------\n",
      "\u001b[34m\u001b[1mRésultats de : régions de confiance avec gct appliqué à fonction 2 au point initial x023 :\u001b[22m\u001b[39m\n",
      "  * xsol = [1.0000000000000007, 1.0, 1.0]\n",
      "  * f(xsol) = 3.1813581453548166e-24\n",
      "  * nb_iters = 19\n",
      "  * flag = 0\n",
      "  * sol_exacte : [1, 1]\n",
      "\u001b[37m\u001b[1mTest Summary:              | \u001b[22m\u001b[39m\u001b[32m\u001b[1mPass  \u001b[22m\u001b[39m\u001b[36m\u001b[1mTotal\u001b[22m\u001b[39m\n",
      "Test rc avec cauchy et gct | \u001b[32m  30  \u001b[39m\u001b[36m   30\u001b[39m\n"
     ]
    }
   ],
   "source": [
    "using Test\n",
    "\n",
    "# Tolérance pour les tests d'égalité\n",
    "tol_erreur = sqrt(eps())\n",
    "\n",
    "## ajouter les fonctions de test\n",
    "include(\"../test/fonctions_de_tests.jl\")\n",
    "include(\"../test/tester_regions_de_confiance.jl\")\n",
    "include(\"../src/Pas_De_Cauchy.jl\")\n",
    "include(\"../src/Gradient_Conjugue_Tronque.jl\")\n",
    "include(\"../src/Regions_De_Confiance.jl\")\n",
    "\n",
    "affiche = true\n",
    "\n",
    "@testset \"Test rc avec cauchy et gct\" begin\n",
    "\ttester_regions_de_confiance(affiche,Regions_De_Confiance)\n",
    "end;"
   ]
  },
  {
   "cell_type": "markdown",
   "metadata": {},
   "source": [
    "## Interprétation  \n",
    "\n",
    "1. Comparer la décroissance obtenue avec celle du pas de Cauchy, en imposant la sortie\n",
    "dans l’algorithme au bout d’une itération seulement. Vous donnerez ci-après des résultats numériques. \n",
    "    1. Que remarquez vous ?\n",
    "    \n",
    "En imposant la sortie dans l’algorithme au bout d’une itération seulement:\n",
    "\n",
    "Pour $f_{1}$, avec le point initial x011, avec GCT et Cauchy, les décroissances sont environ les mêmes.\n",
    "    \n",
    "    2. Comparer la décroissance obtenue avec celle du pas de Cauchy dans le cas général.\n",
    "\n",
    "Avec les deux algorithmes, on obtient à peu près les mêmes resultats. Cependant, la décroissance avec l'algorithme du GCT reste toujours inférieure à celle de l'algorithme de Cauchy.\n",
    "\n",
    "3. Quels sont les avantages et inconvénients des deux approches ?\n",
    "\n",
    "Il est vrai que l'algorithme de Cauchy est plus efficace et rapide vu qu'il converge en moins d'itérations. Mais l'Algorithme du gradient conjugué tronqué est plus précise, la décroissance est certes dans ce cas très faible."
   ]
  },
  {
   "cell_type": "code",
   "execution_count": null,
   "metadata": {},
   "outputs": [],
   "source": []
  },
  {
   "cell_type": "code",
   "execution_count": null,
   "metadata": {},
   "outputs": [],
   "source": []
  },
  {
   "cell_type": "code",
   "execution_count": null,
   "metadata": {},
   "outputs": [],
   "source": []
  }
 ],
 "metadata": {
  "kernelspec": {
   "display_name": "Julia 1.4.1",
   "language": "julia",
   "name": "julia-1.4"
  },
  "language_info": {
   "file_extension": ".jl",
   "mimetype": "application/julia",
   "name": "julia",
   "version": "1.4.1"
  }
 },
 "nbformat": 4,
 "nbformat_minor": 4
}
